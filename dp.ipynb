{
  "nbformat": 4,
  "nbformat_minor": 0,
  "metadata": {
    "colab": {
      "name": "Untitled8.ipynb",
      "provenance": []
    },
    "kernelspec": {
      "name": "python3",
      "display_name": "Python 3"
    }
  },
  "cells": [
    {
      "cell_type": "code", 
      "metadata": {
        "id": "B__zpj1SeqxC",
        "colab_type": "code",
        "colab": {
          "base_uri": "https://localhost:8080/",
          "height": 54
        },
        "outputId": "35a0fe3d-41d8-44b0-fae7-e7790eaf3119"
      },
      "source": [
        "import bz2\n",
        "import subprocess\n",
        "import re\n",
        "import xml.sax\n",
        "import nltk\n",
        "from nltk.tokenize import sent_tokenize\n",
        "nltk.download('punkt')\n",
        "import random"
      ],
      "execution_count": null,
      "outputs": [
        {
          "output_type": "stream",
          "text": [
            "[nltk_data] Downloading package punkt to /root/nltk_data...\n",
            "[nltk_data]   Unzipping tokenizers/punkt.zip.\n"
          ],
          "name": "stdout"
        }
      ]
    },
    {
      "cell_type": "code",
      "metadata": {
        "id": "EgoDI0sWetmv",
        "colab_type": "code",
        "colab": {
          "base_uri": "https://localhost:8080/",
          "height": 131
        },
        "outputId": "00d6a2eb-488b-4bc7-8195-407dd99401ea"
      },
      "source": [
        "from google.colab import drive\n",
        "drive.mount('/content/drive')"
      ],
      "execution_count": null,
      "outputs": [
        {
          "output_type": "stream",
          "text": [
            "Go to this URL in a browser: https://accounts.google.com/o/oauth2/auth?client_id=947318989803-6bn6qk8qdgf4n4g3pfee6491hc0brc4i.apps.googleusercontent.com&redirect_uri=urn%3aietf%3awg%3aoauth%3a2.0%3aoob&response_type=code&scope=email%20https%3a%2f%2fwww.googleapis.com%2fauth%2fdocs.test%20https%3a%2f%2fwww.googleapis.com%2fauth%2fdrive%20https%3a%2f%2fwww.googleapis.com%2fauth%2fdrive.photos.readonly%20https%3a%2f%2fwww.googleapis.com%2fauth%2fpeopleapi.readonly\n",
            "\n",
            "Enter your authorization code:\n",
            "··········\n",
            "Mounted at /content/drive\n"
          ],
          "name": "stdout"
        }
      ]
    },
    {
      "cell_type": "code",
      "metadata": {
        "id": "qNXf0L4iewhs",
        "colab_type": "code",
        "colab": {}
      },
      "source": [
        "class WikiXmlHandler(xml.sax.handler.ContentHandler):\n",
        "    \"\"\"Content handler for Wiki XML data using SAX\"\"\"\n",
        "    def __init__(self):\n",
        "        xml.sax.handler.ContentHandler.__init__(self)\n",
        "        self._buffer = None\n",
        "        self._values = {}\n",
        "        self._current_tag = None\n",
        "        self._pages = []\n",
        "\n",
        "    def characters(self, content):\n",
        "        \"\"\"Characters between opening and closing tags\"\"\"\n",
        "        if self._current_tag:\n",
        "            self._buffer.append(content)\n",
        "\n",
        "    def startElement(self, name, attrs):\n",
        "        \"\"\"Opening tag of element\"\"\"\n",
        "        if name in ('title', 'text'):\n",
        "            self._current_tag = name\n",
        "            self._buffer = []\n",
        "\n",
        "    def endElement(self, name):\n",
        "        \"\"\"Closing tag of element\"\"\"\n",
        "        if name == self._current_tag:\n",
        "            self._values[name] = ' '.join(self._buffer)\n",
        "\n",
        "        if name == 'page':\n",
        "            self._pages.append((self._values['title'], self._values['text']))\n",
        "#src: https://towardsdatascience.com/wikipedia-data-science-working-with-the-worlds-largest-encyclopedia-c08efbac5f5c"
      ],
      "execution_count": null,
      "outputs": []
    },
    {
      "cell_type": "code",
      "metadata": {
        "id": "gXlLVfj5e1Xl",
        "colab_type": "code",
        "colab": {}
      },
      "source": [
        "# Object for handling xml\n",
        "handler = WikiXmlHandler()# Parsing object\n",
        "parser = xml.sax.make_parser()\n",
        "parser.setContentHandler(handler)# Iteratively process file\n",
        "for line in subprocess.Popen(['bzcat'], \n",
        "                              stdin = open(\"/content/drive/My Drive/Colab Notebooks/etwiki-latest-pages-articles.xml.bz2\"), \n",
        "                              stdout = subprocess.PIPE).stdout:\n",
        "    parser.feed(line)\n",
        "#src: https://towardsdatascience.com/wikipedia-data-science-working-with-the-worlds-largest-encyclopedia-c08efbac5f5c"
      ],
      "execution_count": null,
      "outputs": []
    },
    {
      "cell_type": "code",
      "metadata": {
        "id": "8fbN-kEbe5L9",
        "colab_type": "code",
        "colab": {}
      },
      "source": [
        "#make dictionary with all pages and texts\n",
        "#make list with (disambiguation page, text)-s\n",
        "disambiguation_pages_texts = []\n",
        "all_pages ={}\n",
        "for el in handler._pages:\n",
        "  if ('{{täpsustus}}' in el[1] or '{{täpsustuslehekülg}}' in el[1]) and el[0] != 'Vikipeedia:Vormistusreeglid':\n",
        "    disambiguation_pages_texts.append(el)\n",
        "  all_pages[el[0].lower()]=el[1]"
      ],
      "execution_count": null,
      "outputs": []
    },
    {
      "cell_type": "code",
      "metadata": {
        "id": "4Do_1sAie-jE",
        "colab_type": "code",
        "colab": {}
      },
      "source": [
        "#make list of (disambiguation page, senses)-s\n",
        "disambiguation_pages_senses = []\n",
        "for el in disambiguation_pages_texts:\n",
        "  senses = []\n",
        "  v = el[1].split('Vaata ka')[0].split('*')\n",
        "  for s in v:\n",
        "    links = re.findall(\"\\[\\[(.*?)\\]\\]\",s)\n",
        "    if links != []:\n",
        "      senses.append(links[0].split('|')[0])\n",
        "  disambiguation_pages_senses.append((el[0],senses))"
      ],
      "execution_count": null,
      "outputs": []
    },
    {
      "cell_type": "code",
      "metadata": {
        "id": "M0m-wzOkIcYW",
        "colab_type": "code",
        "colab": {}
      },
      "source": [
        "#function that takes sense and returns (sense, number of sentences)\n",
        "def a(sense):\n",
        "  title = sense.lower()\n",
        "  nr = 0\n",
        "  if title in all_pages.keys():\n",
        "    if bool(re.match('#suuna\\s*\\[\\[.*?\\]\\]\\s*',all_pages[title])):\n",
        "      new_page = re.findall('#suuna\\s*\\[\\[(.*?)\\]\\]\\s*',all_pages[title])[0].lower().strip().replace('_', ' ')\n",
        "      if new_page in all_pages.keys():\n",
        "        p = re.compile(r'==\\s*Viited\\s*==')\n",
        "        nr = len(sent_tokenize(p.split(all_pages[new_page])[0]))\n",
        "    else:\n",
        "      p = re.compile(r'==\\s*Viited\\s*==')\n",
        "      nr = len(sent_tokenize(p.split(all_pages[title])[0]))\n",
        "    return (title,nr)\n",
        "  return ('',nr)"
      ],
      "execution_count": null,
      "outputs": []
    },
    {
      "cell_type": "code",
      "metadata": {
        "id": "T5a6B7uQIoBD",
        "colab_type": "code",
        "colab": {}
      },
      "source": [
        "#function that takes list of senses and returns list of tuples (sense, number of sentences)\n",
        "def b(lst):\n",
        "  lst1 = []\n",
        "  for el in lst:\n",
        "    lst1.append(a(el))\n",
        "  return lst1"
      ],
      "execution_count": null,
      "outputs": []
    },
    {
      "cell_type": "code",
      "metadata": {
        "id": "8cMiUvrNIrWx",
        "colab_type": "code",
        "colab": {}
      },
      "source": [
        "#output will be dict of disambiguation titles with lists of their senses and numbers of sentences for each sense\n",
        "output = {}\n",
        "for t,s in disambiguation_pages_senses:\n",
        "  input = s\n",
        "  output[t]=b(input)"
      ],
      "execution_count": null,
      "outputs": []
    },
    {
      "cell_type": "code",
      "metadata": {
        "id": "lAYnlWVmH8DW",
        "colab_type": "code",
        "colab": {
          "base_uri": "https://localhost:8080/",
          "height": 36
        },
        "outputId": "945c2b18-8bad-4d16-f543-f1d9d19504af"
      },
      "source": [
        "#number of disambiguation pages that have more than one senses, including red links\n",
        "counter = 0\n",
        "for el in output.keys():\n",
        "  if len(output[el]) > 1:\n",
        "    counter += 1\n",
        "print(counter)"
      ],
      "execution_count": null,
      "outputs": [
        {
          "output_type": "stream",
          "text": [
            "6360\n"
          ],
          "name": "stdout"
        }
      ]
    },
    {
      "cell_type": "code",
      "metadata": {
        "id": "1Avi2yE0BCud",
        "colab_type": "code",
        "colab": {
          "base_uri": "https://localhost:8080/",
          "height": 224
        },
        "outputId": "0c569df3-1267-4f79-c924-37f703af70c5"
      },
      "source": [
        "#example of data, ('', 0)-s represent senses which don't have article about them\n",
        "sample = random.sample(output.keys(), 10)\n",
        "for el in sample:\n",
        "  print(el, output[el])"
      ],
      "execution_count": null,
      "outputs": [
        {
          "output_type": "stream",
          "text": [
            "Suurevälja [('', 0), ('', 0), ('', 0)]\n",
            "CU [('vask', 70), ('rünkpilv', 16), ('.cu', 4), ('kirikuslaavi keel', 10)]\n",
            "Dorothea [('dorothea (eesnimi)', 4), ('brandenburgi dorothea', 13)]\n",
            "Tartu lahing [('tartu lahing (1224)', 96), ('tartu piiramine (1704)', 37), ('tartu lahing (1919)', 27), ('', 0), ('tartu lahing (1944)', 196)]\n",
            "CC [('creative commons', 26), ('', 0), ('kookossaared', 13), ('helikassett', 102), ('', 0), ('kiudrünkpilved', 14), ('kulon', 5), ('c (programmeerimiskeel)', 20), ('.cc', 4)]\n",
            "Viru tänav (täpsustus) [('tänav', 13), ('', 0), ('', 0), ('', 0), ('viru tänav (narva)', 16), ('', 0), ('viru tänav (pärnu)', 4), ('', 0), ('viru tänav (rakvere)', 11), ('viru tänav', 53), ('', 0)]\n",
            "Anatoli Nikolajev (täpsustus) [('', 0), ('anatoli nikolajev', 216), ('', 0), ('anatoli pavlovitš nikolajev', 5), ('', 0), ('', 0)]\n",
            "Lohu tänav (täpsustus) [('tänav', 13), ('', 0), ('', 0), ('', 0), ('', 0), ('', 0), ('lohu tänav', 8), ('lohu tänav (viljandi)', 3), ('', 0)]\n",
            "Kasarmu tänav [('kasarmu tänav (tartu)', 5), ('', 0), ('', 0), ('kategooria:eesti tänavate täpsustusleheküljed', 2)]\n",
            "Salu mõis [('karjamõis', 9), ('', 0), ('', 0)]\n"
          ],
          "name": "stdout"
        }
      ]
    },
    {
      "cell_type": "code",
      "metadata": {
        "id": "CwstvGiY6pZc",
        "colab_type": "code",
        "colab": {}
      },
      "source": [
        "#disambiguation pages, included only senses that have article about them\n",
        "output2 = output\n",
        "minus = []\n",
        "for el in output2.keys():\n",
        "    x = output2[el]\n",
        "    output2[el]=list(filter(lambda a: a != ('', 0), x)) #src: https://stackoverflow.com/questions/1157106/remove-all-occurrences-of-a-value-from-a-list\n",
        "    if output2[el]==[]:\n",
        "        minus.append(el)\n",
        "for e in minus:\n",
        "    output2.pop(e)"
      ],
      "execution_count": null,
      "outputs": []
    },
    {
      "cell_type": "code",
      "metadata": {
        "id": "xmkPQUhrKQb6",
        "colab_type": "code",
        "colab": {
          "base_uri": "https://localhost:8080/",
          "height": 36
        },
        "outputId": "73090dab-5a52-42a6-ac88-f5f050c9984c"
      },
      "source": [
        "#number of disambiguation pages that have more than one senses, excluding red links\n",
        "counter = 0\n",
        "for el in output2.keys():\n",
        "  if len(output2[el]) > 1:\n",
        "    counter += 1\n",
        "print(counter)"
      ],
      "execution_count": null,
      "outputs": [
        {
          "output_type": "stream",
          "text": [
            "4512\n"
          ],
          "name": "stdout"
        }
      ]
    },
    {
      "cell_type": "code",
      "metadata": {
        "id": "tzbv9BY3F_M0",
        "colab_type": "code",
        "colab": {
          "base_uri": "https://localhost:8080/",
          "height": 205
        },
        "outputId": "45dfe5a9-d1d5-4823-d21f-39c072ca86e2"
      },
      "source": [
        "#example of data\n",
        "for el in sample:\n",
        "  if el in output2.keys():\n",
        "    print(el, output2[el])"
      ],
      "execution_count": null,
      "outputs": [
        {
          "output_type": "stream",
          "text": [
            "CU [('vask', 70), ('rünkpilv', 16), ('.cu', 4), ('kirikuslaavi keel', 10)]\n",
            "Dorothea [('dorothea (eesnimi)', 4), ('brandenburgi dorothea', 13)]\n",
            "Tartu lahing [('tartu lahing (1224)', 96), ('tartu piiramine (1704)', 37), ('tartu lahing (1919)', 27), ('tartu lahing (1944)', 196)]\n",
            "CC [('creative commons', 26), ('kookossaared', 13), ('helikassett', 102), ('kiudrünkpilved', 14), ('kulon', 5), ('c (programmeerimiskeel)', 20), ('.cc', 4)]\n",
            "Viru tänav (täpsustus) [('tänav', 13), ('viru tänav (narva)', 16), ('viru tänav (pärnu)', 4), ('viru tänav (rakvere)', 11), ('viru tänav', 53)]\n",
            "Anatoli Nikolajev (täpsustus) [('anatoli nikolajev', 216), ('anatoli pavlovitš nikolajev', 5)]\n",
            "Lohu tänav (täpsustus) [('tänav', 13), ('lohu tänav', 8), ('lohu tänav (viljandi)', 3)]\n",
            "Kasarmu tänav [('kasarmu tänav (tartu)', 5), ('kategooria:eesti tänavate täpsustusleheküljed', 2)]\n",
            "Salu mõis [('karjamõis', 9)]\n"
          ],
          "name": "stdout"
        }
      ]
    }
  ]
}